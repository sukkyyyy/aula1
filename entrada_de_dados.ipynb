{
 "cells": [
  {
   "cell_type": "code",
   "execution_count": null,
   "metadata": {},
   "outputs": [
    {
     "name": "stdout",
     "output_type": "stream",
     "text": [
      "\n",
      "\n"
     ]
    },
    {
     "ename": "TypeError",
     "evalue": "unsupported operand type(s) for ** or pow(): 'str' and 'int'",
     "output_type": "error",
     "traceback": [
      "\u001b[31m---------------------------------------------------------------------------\u001b[39m",
      "\u001b[31mTypeError\u001b[39m                                 Traceback (most recent call last)",
      "\u001b[36mCell\u001b[39m\u001b[36m \u001b[39m\u001b[32mIn[1]\u001b[39m\u001b[32m, line 9\u001b[39m\n\u001b[32m      4\u001b[39m \u001b[38;5;28mprint\u001b[39m(peso)\n\u001b[32m      5\u001b[39m \u001b[38;5;66;03m#--------------------------------\u001b[39;00m\n\u001b[32m      6\u001b[39m \u001b[38;5;66;03m#imc = peso/altura\u001b[39;00m\n\u001b[32m      7\u001b[39m \u001b[38;5;66;03m#--------------------------------\u001b[39;00m\n\u001b[32m----> \u001b[39m\u001b[32m9\u001b[39m imc = peso/\u001b[43maltura\u001b[49m\u001b[43m*\u001b[49m\u001b[43m*\u001b[49m\u001b[32;43m2\u001b[39;49m\n\u001b[32m     10\u001b[39m \u001b[38;5;28mprint\u001b[39m(imc)\n",
      "\u001b[31mTypeError\u001b[39m: unsupported operand type(s) for ** or pow(): 'str' and 'int'"
     ]
    }
   ],
   "source": [
    "altura = float(input(\"digite sua altura: \"))\n",
    "print(type(altura))\n",
    "peso = float(input(\"digite seu peso: \"))\n",
    "print(type(peso))\n",
    "#--------------------------------\n",
    "#imc = peso/altura\n",
    "#--------------------------------\n",
    "\n",
    "imc = peso/altura**2\n",
    "print(imc)\n",
    "#-------------------------------\n",
    "texto = 'ola mundo'\n",
    "texto_dois = \"texto\"\n",
    "inteiro = -10\n",
    "racionais = 3"
   ]
  }
 ],
 "metadata": {
  "kernelspec": {
   "display_name": "Python 3",
   "language": "python",
   "name": "python3"
  },
  "language_info": {
   "codemirror_mode": {
    "name": "ipython",
    "version": 3
   },
   "file_extension": ".py",
   "mimetype": "text/x-python",
   "name": "python",
   "nbconvert_exporter": "python",
   "pygments_lexer": "ipython3",
   "version": "3.13.2"
  }
 },
 "nbformat": 4,
 "nbformat_minor": 2
}
