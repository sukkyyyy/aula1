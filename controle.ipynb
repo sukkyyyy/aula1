{
 "cells": [
  {
   "cell_type": "code",
   "execution_count": null,
   "metadata": {},
   "outputs": [],
   "source": [
    "sim = True\n",
    "nao = False\n",
    "if sim:\n",
    "    print(\"entrou no if\")\n",
    "else:\n",
    "    print(\"nao entrou\")\n",
    "\n",
    "#-------------------------------\n",
    "resto = 5%2\n",
    "print(resto)\n",
    "#-------------------------------\n",
    "# imprimir: numero par\n",
    "#-------------------------------\n",
    "numero = int(input(\"Digite um numero: \"))\n",
    "resultado = numero%2\n",
    "\n",
    "if resultado == 0:\n",
    "    print(\"numero par\")\n",
    "else:\n",
    "    print(\"numero impar\")\n",
    "#-------------------------------\n",
    "# == igual á\n",
    "# != diferente de\n",
    "# < menor que\n",
    "# > maior que \n",
    "# <= menor ou igual\n",
    "# >= maior ou igual\n",
    "#----------------------------\n",
    "# a,b,c,d\n",
    "a = 3\n",
    "b = 1.5\n",
    "c = 12\n",
    "d = 8.10\n",
    "#--------------------\n",
    "if a > b:\n",
    "    print(\"A é maior que 8\")\n",
    "elif a == b:\n",
    "    print(\"o valor de a é o mesmo que de 8\")\n",
    "elif a != c:\n",
    "    print(\"a e c são diferentes\")\n",
    "elif a < b:\n",
    "    print(\"a é menor que 8\")"
   ]
  }
 ],
 "metadata": {
  "language_info": {
   "name": "python"
  }
 },
 "nbformat": 4,
 "nbformat_minor": 2
}
