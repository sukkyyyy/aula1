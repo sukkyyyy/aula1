{
 "cells": [
  {
   "cell_type": "code",
   "execution_count": null,
   "metadata": {},
   "outputs": [],
   "source": [
    "print(\"Bem vindo a calculadora de soma\")\n",
    "primeiro_numero = int(input(\"Digite seu primeiro numero: \"))\n",
    "segundo_numero = int(input(\"Digite seu sugundo numero: \"))\n",
    "\n",
    "print(f'a soma do numero {primeiro_numero} + {segundo_numero}: {primeiro_numero + segundo_numero}')\n"
   ]
  }
 ],
 "metadata": {
  "language_info": {
   "name": "python"
  }
 },
 "nbformat": 4,
 "nbformat_minor": 2
}
