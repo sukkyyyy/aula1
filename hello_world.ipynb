{
 "cells": [
  {
   "cell_type": "code",
   "execution_count": null,
   "metadata": {},
   "outputs": [
    {
     "name": "stdout",
     "output_type": "stream",
     "text": [
      "Olá Mundo!\n",
      "Matheus Aliaga\n",
      "74\n",
      "-1\n",
      "400\n",
      "0.9814814814814815\n",
      "18014398509481984000000000000000000000000000000000000000000000000000000\n"
     ]
    }
   ],
   "source": [
    "print(\"Olá Mundo!\")\n",
    "print(\"Matheus Aliaga\")\n",
    "\n",
    "\n",
    "# x, y, z\n",
    "x = 54\n",
    "y = 20\n",
    "z = 53\n",
    "\n",
    "print(x + y) #soma\n",
    "print(z - x) #subtração\n",
    "print(y * y) #multiplicação\n",
    "print(z / x) #divisão\n",
    "print(y ** x) #potência\n"
   ]
  }
 ],
 "metadata": {
  "kernelspec": {
   "display_name": "Python 3",
   "language": "python",
   "name": "python3"
  },
  "language_info": {
   "codemirror_mode": {
    "name": "ipython",
    "version": 3
   },
   "file_extension": ".py",
   "mimetype": "text/x-python",
   "name": "python",
   "nbconvert_exporter": "python",
   "pygments_lexer": "ipython3",
   "version": "3.13.2"
  }
 },
 "nbformat": 4,
 "nbformat_minor": 2
}
