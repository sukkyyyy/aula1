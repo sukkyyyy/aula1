{
 "cells": [
  {
   "cell_type": "code",
   "execution_count": null,
   "metadata": {},
   "outputs": [
    {
     "name": "stdout",
     "output_type": "stream",
     "text": [
      "Matheus Aliaga\n"
     ]
    },
    {
     "ename": "NameError",
     "evalue": "name 'Print' is not defined",
     "output_type": "error",
     "traceback": [
      "\u001b[31m---------------------------------------------------------------------------\u001b[39m",
      "\u001b[31mNameError\u001b[39m                                 Traceback (most recent call last)",
      "\u001b[36mCell\u001b[39m\u001b[36m \u001b[39m\u001b[32mIn[2]\u001b[39m\u001b[32m, line 5\u001b[39m\n\u001b[32m      2\u001b[39m sobrenome = \u001b[33m\"\u001b[39m\u001b[33mAliaga\u001b[39m\u001b[33m\"\u001b[39m\n\u001b[32m      4\u001b[39m \u001b[38;5;28mprint\u001b[39m(nome, sobrenome)\n\u001b[32m----> \u001b[39m\u001b[32m5\u001b[39m \u001b[43mPrint\u001b[49m(nome + \u001b[33m\"\u001b[39m\u001b[33m \u001b[39m\u001b[33m\"\u001b[39m + sobrenome)\n\u001b[32m      6\u001b[39m Print(\u001b[33mf\u001b[39m\u001b[33m'\u001b[39m\u001b[38;5;132;01m{\u001b[39;00mnome\u001b[38;5;132;01m}\u001b[39;00m\u001b[33m e \u001b[39m\u001b[38;5;132;01m{\u001b[39;00msobrenome\u001b[38;5;132;01m}\u001b[39;00m\u001b[33m'\u001b[39m)\n\u001b[32m      7\u001b[39m \u001b[38;5;66;03m#----------------------------------\u001b[39;00m\n\u001b[32m      8\u001b[39m \u001b[38;5;66;03m#: eu sou <nome de vocês> e meu imc é <calculo do imc>\u001b[39;00m\n",
      "\u001b[31mNameError\u001b[39m: name 'Print' is not defined"
     ]
    }
   ],
   "source": [
    "nome = \"Matheus9\"\n",
    "sobrenome = \"Aliaga\"\n",
    "\n",
    "print(nome, sobrenome)\n",
    "Print(nome + \" \" + sobrenome)\n",
    "Print(f'{nome} e {sobrenome}')\n",
    "#----------------------------------\n",
    "#: eu sou <nome de vocês> e meu imc é <calculo do imc>\n",
    "\n",
    "altura = 1.70\n",
    "peso = 65\n",
    "imc = peso/altura**2\n",
    "nome = \"Matheus Aliaga\"\n",
    "\n",
    "print(f'Eu sou {nome} e meu imc é {round(imc, 2)}')\n",
    "#--------------------------------------"
   ]
  }
 ],
 "metadata": {
  "kernelspec": {
   "display_name": "Python 3",
   "language": "python",
   "name": "python3"
  },
  "language_info": {
   "codemirror_mode": {
    "name": "ipython",
    "version": 3
   },
   "file_extension": ".py",
   "mimetype": "text/x-python",
   "name": "python",
   "nbconvert_exporter": "python",
   "pygments_lexer": "ipython3",
   "version": "3.13.2"
  }
 },
 "nbformat": 4,
 "nbformat_minor": 2
}
